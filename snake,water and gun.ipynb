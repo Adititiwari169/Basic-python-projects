{
 "cells": [
  {
   "cell_type": "code",
   "execution_count": 21,
   "id": "bb69c791-101f-4564-8598-a95cc74acb13",
   "metadata": {},
   "outputs": [
    {
     "name": "stdin",
     "output_type": "stream",
     "text": [
      "Enter your choice :  s\n"
     ]
    },
    {
     "name": "stdout",
     "output_type": "stream",
     "text": [
      "you chose snake \n",
      "computer chose snake \n",
      "draw\n"
     ]
    }
   ],
   "source": [
    "# 1 for snake\n",
    "# -1 for water\n",
    "# 0 for gun\n",
    "import random\n",
    "\n",
    "computer=random.choice([-1,0,1])\n",
    "youstr=(input(\"Enter your choice : \"))\n",
    "youDict={\"s\":1,\"w\": -1,\"g\":0}\n",
    "reverseDict={1:\"snake\",-1:\"water\",0:\"gun\"}\n",
    "you=youDict[youstr]\n",
    "\n",
    "print(f\"you chose {reverseDict[you]} \\ncomputer chose {reverseDict[computer]} \")\n",
    "\n",
    "if(computer==you):\n",
    "    print(\"draw\")\n",
    "    \n",
    "else:\n",
    "    if(computer == -1 and you == 1):\n",
    "        print(\"you win\")\n",
    "\n",
    "    elif(computer==-1 and you==0):\n",
    "        print(\"you lose!\")\n",
    "\n",
    "    elif(computer ==1 and you == -1):\n",
    "         print(\"you lose!\")\n",
    "\n",
    "    elif(computer ==1 and you==0):\n",
    "         print(\"you win!\")\n",
    "\n",
    "    elif(computer ==0 and you == -1):\n",
    "         print(\"you win!\")\n",
    "\n",
    "    elif(computer ==0 and you==1):\n",
    "         print(\"you lose!\")\n",
    "\n",
    "    else:\n",
    "         print(\"something went wrong\")\n",
    "   \n",
    "\n",
    "\n",
    "\n"
   ]
  },
  {
   "cell_type": "code",
   "execution_count": null,
   "id": "6ae6c675-e510-46d9-832a-787854bfc094",
   "metadata": {},
   "outputs": [],
   "source": []
  }
 ],
 "metadata": {
  "kernelspec": {
   "display_name": "Python 3 (ipykernel)",
   "language": "python",
   "name": "python3"
  },
  "language_info": {
   "codemirror_mode": {
    "name": "ipython",
    "version": 3
   },
   "file_extension": ".py",
   "mimetype": "text/x-python",
   "name": "python",
   "nbconvert_exporter": "python",
   "pygments_lexer": "ipython3",
   "version": "3.12.7"
  }
 },
 "nbformat": 4,
 "nbformat_minor": 5
}
